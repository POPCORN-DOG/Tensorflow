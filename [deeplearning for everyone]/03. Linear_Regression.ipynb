{
 "cells": [
  {
   "cell_type": "markdown",
   "metadata": {},
   "source": [
    "## 옵티마이저 - 경사 하강법(gradient descent)\n",
    "`비용 함수(cost)` = `손실 함수(loss)` = `오차 함수(error)` = `목적 함수(objective)` <br><br>\n",
    "앞서 정의한 비용 함수(Cost Function)의 값을 최소로 하는 w와 b를 찾는 방법 중<br>\n",
    "가장 기본적인 옵티마이저 알고리즘(최적화 알고리즘)인 경사 하강법이다. <br><br>\n",
    "적절한 w와 b값을 찾아내는 과정을 머신 러닝에서 학습(training)이라 한다.<br>"
   ]
  }
 ],
 "metadata": {
  "kernelspec": {
   "display_name": "Python 3",
   "language": "python",
   "name": "python3"
  },
  "language_info": {
   "codemirror_mode": {
    "name": "ipython",
    "version": 3
   },
   "file_extension": ".py",
   "mimetype": "text/x-python",
   "name": "python",
   "nbconvert_exporter": "python",
   "pygments_lexer": "ipython3",
   "version": "3.8.5"
  }
 },
 "nbformat": 4,
 "nbformat_minor": 4
}
