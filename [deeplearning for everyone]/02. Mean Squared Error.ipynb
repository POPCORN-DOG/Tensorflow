{
 "cells": [
  {
   "cell_type": "markdown",
   "metadata": {},
   "source": [
    "#### 선형 회귀란 임의의 직선을 그어 이에 대한 평균 제곱 오차를 구하고, \n",
    "#### 이 값을 가장 작게 만들어 주는 a와 b 값을 찾아가는 작업이다."
   ]
  },
  {
   "cell_type": "markdown",
   "metadata": {},
   "source": [
    "앞서 최소 제곱법을 통해 점들의 특성을 가장 잘 나타내는 최적의 직선이 y=2.3x+79임을 구했다.<br>\n",
    "이번에는 최소 제곱법이 아닌 `임의의 값 a,b를 대입한 뒤 오차를 구하고` <br>\n",
    "이 `오차를 최소화하는 방식(최적화)`을 사용해서 구해보자.<br>"
   ]
  },
  {
   "cell_type": "markdown",
   "metadata": {},
   "source": [
    "- 실제 데이터와 임의의 직선간의 거리를 빼고, \n",
    "- 음수와 양수의 혼합을 중화하기 위해 제곱을 한다. (오차)\n",
    "- 각 x값과 직선간의 오차들을 합한 값에서 평균을 내기 위해 그 수만큼(n) 나눈다."
   ]
  },
  {
   "attachments": {
    "image.png": {
     "image/png": "[encoded data removed]"
    }
   },
   "cell_type": "markdown",
   "metadata": {},
   "source": [
    "![image.png](attachment:image.png)"
   ]
  },
  {
   "cell_type": "markdown",
   "metadata": {},
   "source": [
    "이렇게 나온 평균 제곱 오차의 계산 결과가 가장 작은 선을 찾는 작업"
   ]
  },
  {
   "cell_type": "code",
   "execution_count": 13,
   "metadata": {},
   "outputs": [],
   "source": [
    "fake_a = 3\n",
    "fake_b = 76"
   ]
  },
  {
   "cell_type": "code",
   "execution_count": 14,
   "metadata": {},
   "outputs": [],
   "source": [
    "data = [[2,81],[4,93],[6,91],[8,97]]\n",
    "x = [i[0] for i in data]\n",
    "y = [i[1] for i in data]"
   ]
  },
  {
   "cell_type": "code",
   "execution_count": 23,
   "metadata": {},
   "outputs": [],
   "source": [
    "# 1차 방정식 y=ax+b\n",
    "def predict(x):\n",
    "    return fake_a * x + fake_b"
   ]
  },
  {
   "cell_type": "code",
   "execution_count": 24,
   "metadata": {},
   "outputs": [],
   "source": [
    "# 평균 제곱 오차\n",
    "def mse(y_hat,y):\n",
    "    return (((y_hat - y)**2).mean())"
   ]
  },
  {
   "cell_type": "code",
   "execution_count": 25,
   "metadata": {},
   "outputs": [],
   "source": [
    "# 평균 제곱 오차에 데이터를 대입하여 최종값을 구하는 함수\n",
    "def mse_val(predict_result, y):\n",
    "    return mse(np.array(predict_result), np.array(y))"
   ]
  },
  {
   "cell_type": "code",
   "execution_count": 28,
   "metadata": {},
   "outputs": [
    {
     "name": "stdout",
     "output_type": "stream",
     "text": [
      "공부한 시간 = 2, 실제 점수 = 81, 예측 점수 = 82\n",
      "공부한 시간 = 4, 실제 점수 = 93, 예측 점수 = 88\n",
      "공부한 시간 = 6, 실제 점수 = 91, 예측 점수 = 94\n",
      "공부한 시간 = 8, 실제 점수 = 97, 예측 점수 = 100\n",
      "mse 최종값: 11.0\n"
     ]
    }
   ],
   "source": [
    "# 모든 x값을 predict()함수에 대입하여 예측 값을 구한 후,\n",
    "# 이 예측 값과 실제 값을 통해 최종값을 출력하는 코드\n",
    "\n",
    "import numpy as np\n",
    "\n",
    "# 예측 값이 들어갈 빈 리스트\n",
    "predict_result = []\n",
    "\n",
    "# 모든 x 값을 한 번씩 대입하여\n",
    "for i in range(len(x)):\n",
    "    # predict_result 리스트를 완성\n",
    "    predict_result.append(predict(x[i]))\n",
    "    print(\"공부한 시간 = %.f, 실제 점수 = %.f, 예측 점수 = %.f\" % (x[i], y[i], predict(x[i])))\n",
    "\n",
    "# 최종 MSE 출력\n",
    "print(\"mse 최종값: \" + str(mse_val(predict_result,y)))"
   ]
  },
  {
   "cell_type": "code",
   "execution_count": 42,
   "metadata": {},
   "outputs": [
    {
     "data": {
      "text/plain": [
       "11.0"
      ]
     },
     "execution_count": 42,
     "metadata": {},
     "output_type": "execute_result"
    }
   ],
   "source": [
    "((np.array(predict_result) - np.array(y)) **2).mean()"
   ]
  }
 ],
 "metadata": {
  "kernelspec": {
   "display_name": "Python 3",
   "language": "python",
   "name": "python3"
  },
  "language_info": {
   "codemirror_mode": {
    "name": "ipython",
    "version": 3
   },
   "file_extension": ".py",
   "mimetype": "text/x-python",
   "name": "python",
   "nbconvert_exporter": "python",
   "pygments_lexer": "ipython3",
   "version": "3.8.5"
  }
 },
 "nbformat": 4,
 "nbformat_minor": 4
}
