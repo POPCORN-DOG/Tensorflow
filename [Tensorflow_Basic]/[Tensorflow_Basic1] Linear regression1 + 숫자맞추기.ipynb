{
 "cells": [
  {
   "cell_type": "code",
   "execution_count": null,
   "metadata": {},
   "outputs": [],
   "source": [
    "# 참고 URL\n",
    "# https://www.youtube.com/watch?v=oy5BGW8D5wc&list=WL&index=41&ab_channel=%EC%96%84%ED%8C%8D%ED%95%9C%EC%BD%94%EB%94%A9%EC%82%AC%EC%A0%84"
   ]
  },
  {
   "cell_type": "code",
   "execution_count": 1,
   "metadata": {},
   "outputs": [],
   "source": [
    "# 모듈 로드\n",
    "import tensorflow as tf\n",
    "import matplotlib.pyplot as plt"
   ]
  },
  {
   "cell_type": "code",
   "execution_count": 2,
   "metadata": {},
   "outputs": [],
   "source": [
    "# 주어진 데이터 입력\n",
    "# 아래 리스트에 생성된 데이터를 대체해 넣으세요.\n",
    "# 적당히 비례적으로 늘어나는 숫자.\n",
    "# https://github.com/POPCORN-DOG/Tensorflow/blob/main/Node.js/random_number.js\n",
    "# Node.js를 활용한 랜덤 숫자 생성\n",
    "# 보통 주어진 데이터에서 y=ax+b의 관계식으로 풀어볼 때 가장 적합한 관계식\n",
    "# a와 b값을 찾아낼 수 있을까 알아보자. \n",
    "\n",
    "# 증명을 위해 y = 3.2x + 256을 기준으로 한 node.js를 만들어 증명되는지 확인해 보자.\n",
    "x = [21.1,0.8,2.3,19,0.6,1.4,19.9,6,22,16.4,17.2,23.4,19.4,0.4,11.6,22.2,12.2,22,24,20,3,9.3,7,4.6,16.6,4.3,13,20.2,14.5,24.4,5.3,14.2,0.7,22.4,17.9,23.5,1.4,15.2,17.4,19,16.9,9.8,12.1,1.5,24.6,14.8,14.2,4.9,10.4,8,6.8,23.3,\n",
    "23.2,14.7,20.1,18.6,0.9,15.2,18.9,11,18.4,1.4,19.7,18.1,22.7,9.7,0.9,22.2,4.9,22.5,14.1,13.9,20.2,15,6.2,21.8,3.4,16.4,13.2,16.6,21.5,24.8,20.6,2.4,5.4,0.3,11.5,3.7,22.9,22.2,7.3,2.8,3.3,19.6,21.1,11.3,17.5,18.5,5.6,5.8]\n",
    "\n",
    "y = [323.5,258.8,263.4,318,258,260.4,321,274.1,327.9,310.5,309.7,333.6,316.6,256.4,292.6,327,293.1,323.5,332.5,318.5,266,287.7,276.6,271.7,308.4,270.6,296.2,320.9,299.3,331.1,273.8,299.5,258.5,327.7,314.6,332.8,259.7,303.5,\n",
    "     314.7,315.7,310.2,286.3,296.1,260.7,334.3,302.3,300.3,270.8,288.5,280.6,277.3,334.7,333.7,301.4,318.2,314.3,259.9,305.4,316.7,291.1,313.8,260.4,318.6,311.1,325.1,285.4,257.7,329,273,326.5,301.6,299.2,321.9,305,275.5,321.9,\n",
    "     267.2,308.8,298.4,308.5,323,338.2,317.9,263.4,273.2,257.5,291,267.1,329.4,323.1,279.6,265.6,267.6,319.6,322.1,291.1,311.8,316.2,274.3,274.3]\n",
    "\n",
    "# python의 경우 random 모듈을 사용하자\n",
    "# randint(최소, 최대) : 입력 파라미터인 최소부터 최대까지 중 임의의 정수를 리턴한다\n",
    "# random() : 0 부터 1 사이의 부동소수점(float) 숫자를 리턴한다\n",
    "# uniform(최소, 최대) : 입력 파라미터인 최소부터 최대까지 중 임의의 부동소수점(float) 숫자를 리턴한다\n",
    "# randrange(시작,끝[,간격]) : 입력 파라미터인 시작부터 끝값까지 (지정된 간격으로 나열된) 숫자 중 임의의 정수를 리턴한다\n",
    "import random \n",
    "z = [round(random.uniform(1.0, 36.5),1) for r in range(100)]\n",
    "# from random import *\n",
    "# z = [round(uniform(1.0, 36.5),1) for r in range(100)]"
   ]
  },
  {
   "cell_type": "code",
   "execution_count": 3,
   "metadata": {},
   "outputs": [
    {
     "data": {
      "text/plain": [
       "<matplotlib.collections.PathCollection at 0x21274ff9cd0>"
      ]
     },
     "execution_count": 3,
     "metadata": {},
     "output_type": "execute_result"
    },
    {
     "data": {
      "image/png": "[encoded data removed]",
      "text/plain": [
       "<Figure size 432x288 with 1 Axes>"
      ]
     },
     "metadata": {
      "needs_background": "light"
     },
     "output_type": "display_data"
    }
   ],
   "source": [
    "# 데이터 시각화\n",
    "plt.scatter(x,y,label='input data set')"
   ]
  },
  {
   "cell_type": "code",
   "execution_count": 4,
   "metadata": {},
   "outputs": [],
   "source": [
    "# 예를 들어 알을 막 까고 나온 새끼들의 키를 하루 간격으로 재보자\n",
    "\n",
    "# (0,0)이 부화, y = 키, x = 나이(시간)\n",
    "# 계속 자란다고 예상할 떄 y=ax+b (a기울기,b는 x가 0일때의 y값 y절편) \n",
    "# 라는 1차 함수식을 바탕으로 오차가 가장 적은 직선을 그려서\n",
    "# 30일 정도에 키가 얼만치 되겠구나 예상할 수 있게된다.\n",
    "\n",
    "# 즉 여기서 선형 회귀(Linear regression) 통계학 기법을 사용해서 \n",
    "# 이 데이터들을 설명하기 가장 적합한 x, y의 관계식을 찾아보자"
   ]
  },
  {
   "cell_type": "markdown",
   "metadata": {},
   "source": [
    "# 1. 순수 tensorflow2.0로 코딩하기"
   ]
  },
  {
   "cell_type": "code",
   "execution_count": 5,
   "metadata": {},
   "outputs": [],
   "source": [
    "# 1. 관계식을 나타내는 클래스.\n",
    "# 선형 모델 클래스 \n",
    "class LinearModel:\n",
    "    # 2) 이렇게 1차 함수 형태임을 나타내자.\n",
    "    def __call__(self, x):\n",
    "        return self.Weight * x + self.Bias\n",
    "    \n",
    "    # 1) weight와 bias를 임의값(tf.Variable(0.))으로 초기화하고\n",
    "    def __init__(self):\n",
    "        self.Weight = tf.Variable(0.)\n",
    "        self.Bias = tf.Variable(0.)"
   ]
  },
  {
   "cell_type": "code",
   "execution_count": 6,
   "metadata": {},
   "outputs": [],
   "source": [
    "# 오차(손실) 구하기 함수\n",
    "def loss(y, pred):\n",
    "    # 3) 현재 관계식으로 예상된 값(pred)과 y의 차이를\n",
    "    # 4) 오차가 + 혹은 - 일 수도 있기 때문에 절대값을 구하기 위해 제곱(square)한 다음 \n",
    "    # 5) mean 평균을 구한다.\n",
    "    return tf.reduce_mean(tf.square(y - pred))"
   ]
  },
  {
   "cell_type": "code",
   "execution_count": 7,
   "metadata": {},
   "outputs": [],
   "source": [
    "# 학습 함수\n",
    "# 6) 관계식의 형태와 x배열, y배열의 데이터, 그리고 직선을 얼마만큼씩 움직여 볼지를\n",
    "# 7) 결정하는 가중치(lr)를 인자들로 받아온다. (여기서는 0.003인데) 이 수치가 너무 높으면\n",
    "# 8) 정확한 값을 찾기 어려울 수 있고 조정하다가 수치가 이상한 쪽으로 튀어버리기도 한다.\n",
    "# 9) 반대로 너무 낮으면 적정값에 도달하는데 시간이 오래 걸리기 때문이다.\n",
    "def train(linear_model, x, y, lr):\n",
    "    with tf.GradientTape() as t:\n",
    "        current_loss = loss(y, linear_model(x))\n",
    "\n",
    "    # 10) 이렇게 train이 한 번 이뤄질 때마다 이 gradient decent(경사하강법)란 방법으로\n",
    "    # 11) 이 손실값(current_loss), 오차가 최소한으로 줄어들어서 데이터들에 최적의 관계식이 만들어질떄까지\n",
    "    # 12) 모델의 weight과 bias가 조정되는것이다.\n",
    "    lr_weight, lr_bias = t.gradient(current_loss, [linear_model.Weight, linear_model.Bias])\n",
    "    linear_model.Weight.assign_sub(lr * lr_weight)\n",
    "    linear_model.Bias.assign_sub(lr * lr_bias)"
   ]
  },
  {
   "cell_type": "code",
   "execution_count": 8,
   "metadata": {},
   "outputs": [
    {
     "name": "stdout",
     "output_type": "stream",
     "text": [
      "0:: W:25.04288101196289 b:1.7907298803329468 Loss: 89680.90625 \n",
      "100:: W:15.519984245300293 b:36.69625473022461 Loss: 12032.8984375 \n",
      "200:: W:13.808283805847168 b:67.12155151367188 Loss: 8924.7509765625 \n",
      "300:: W:12.334185600280762 b:93.323486328125 Loss: 6619.60546875 \n",
      "400:: W:11.064711570739746 b:115.88827514648438 Loss: 4910.00732421875 \n",
      "500:: W:9.971455574035645 b:135.32077026367188 Loss: 3642.09375 \n",
      "600:: W:9.029956817626953 b:152.05581665039062 Loss: 2701.75146484375 \n",
      "700:: W:8.21915054321289 b:166.46780395507812 Loss: 2004.3525390625 \n",
      "800:: W:7.520893573760986 b:178.87925720214844 Loss: 1487.1295166015625 \n",
      "900:: W:6.919555187225342 b:189.56797790527344 Loss: 1103.5289306640625 \n",
      "1000:: W:6.4016947746276855 b:198.77288818359375 Loss: 819.0367431640625 \n",
      "1100:: W:5.955722808837891 b:206.6999969482422 Loss: 608.0457763671875 \n",
      "1200:: W:5.571655750274658 b:213.52674865722656 Loss: 451.5648193359375 \n",
      "1300:: W:5.240902900695801 b:219.40585327148438 Loss: 335.5117492675781 \n",
      "1400:: W:4.956061840057373 b:224.4688720703125 Loss: 249.44134521484375 \n",
      "1500:: W:4.710762023925781 b:228.82904052734375 Loss: 185.60806274414062 \n",
      "1600:: W:4.499507904052734 b:232.5840606689453 Loss: 138.26531982421875 \n",
      "1700:: W:4.317581653594971 b:235.81777954101562 Loss: 103.15438842773438 \n",
      "1800:: W:4.160907745361328 b:238.60264587402344 Loss: 77.1142807006836 \n",
      "1900:: W:4.02598237991333 b:241.0009307861328 Loss: 57.801841735839844 \n",
      "2000:: W:3.9097883701324463 b:243.06626892089844 Loss: 43.47910690307617 \n",
      "2100:: W:3.809723138809204 b:244.8449249267578 Loss: 32.856571197509766 \n",
      "2200:: W:3.7235445976257324 b:246.37672424316406 Loss: 24.97812271118164 \n",
      "2300:: W:3.6493289470672607 b:247.69590759277344 Loss: 19.135103225708008 \n",
      "2400:: W:3.5854151248931885 b:248.83197021484375 Loss: 14.801691055297852 \n",
      "2500:: W:3.53037166595459 b:249.8103485107422 Loss: 11.587769508361816 \n",
      "2600:: W:3.48297119140625 b:250.65289306640625 Loss: 9.204239845275879 \n",
      "2700:: W:3.4421489238739014 b:251.37850952148438 Loss: 7.4364495277404785 \n",
      "2800:: W:3.4069936275482178 b:252.00338745117188 Loss: 6.125431060791016 \n",
      "2900:: W:3.3767178058624268 b:252.54153442382812 Loss: 5.1530938148498535 \n",
      "3000:: W:3.3506484031677246 b:253.0049285888672 Loss: 4.432058334350586 \n",
      "3100:: W:3.3281965255737305 b:253.4040069580078 Loss: 3.8972840309143066 \n",
      "3200:: W:3.30885648727417 b:253.74777221679688 Loss: 3.5005688667297363 \n",
      "3300:: W:3.292203187942505 b:254.0437774658203 Loss: 3.2063939571380615 \n",
      "3400:: W:3.277860164642334 b:254.29872131347656 Loss: 2.988213300704956 \n",
      "3500:: W:3.2655112743377686 b:254.51821899414062 Loss: 2.826432228088379 \n",
      "3600:: W:3.2548773288726807 b:254.70724487304688 Loss: 2.70645809173584 \n",
      "3700:: W:3.245718479156494 b:254.8700408935547 Loss: 2.6174752712249756 \n",
      "3800:: W:3.2378294467926025 b:255.01026916503906 Loss: 2.551455020904541 \n",
      "3900:: W:3.2310359477996826 b:255.13101196289062 Loss: 2.502516269683838 \n",
      "4000:: W:3.2251856327056885 b:255.23500061035156 Loss: 2.466212749481201 \n",
      "4100:: W:3.2201473712921143 b:255.32455444335938 Loss: 2.439291000366211 \n",
      "4200:: W:3.2158102989196777 b:255.4016571044922 Loss: 2.419327735900879 \n",
      "4300:: W:3.212073802947998 b:255.4680633544922 Loss: 2.4045214653015137 \n",
      "4400:: W:3.208857774734497 b:255.52523803710938 Loss: 2.393549680709839 \n",
      "4500:: W:3.206087350845337 b:255.57447814941406 Loss: 2.3854002952575684 \n",
      "4600:: W:3.203701972961426 b:255.61688232421875 Loss: 2.379365921020508 \n",
      "4700:: W:3.201646566390991 b:255.65341186523438 Loss: 2.374877691268921 \n",
      "4800:: W:3.199878215789795 b:255.68484497070312 Loss: 2.371558427810669 \n",
      "4900:: W:3.1983511447906494 b:255.7119903564453 Loss: 2.369086503982544 \n",
      "5000:: W:3.1970417499542236 b:255.73526000976562 Loss: 2.3672666549682617 \n"
     ]
    }
   ],
   "source": [
    "# 학습 진행\n",
    "# 13) 마지막으로 이것들을 실행하는 코드이다.\n",
    "# 14) 관계식 클래스의 객체를 만들고\n",
    "linear_model = LinearModel()\n",
    "# 15) 학습횟수는 1000정도로 해보자\n",
    "# 1차 1000, 2차 5000로 해보자. \n",
    "# w의 weight값 b의 bias값이 y= 3.2x + 256에 가까워지는지 확인해보자.\n",
    "epochs = 5000\n",
    "\n",
    "# 16) for문을 그 횟수만큼 돌리면서 \n",
    "for epoch_count in range(epochs + 1):\n",
    "    # 17) 현 상태의 오차값들을 구하고\n",
    "    real_loss = loss(y, linear_model(x))\n",
    "    # 18) 이를 토대로 직선의 위차와 기울기를 조정하는 것이다.\n",
    "    train(linear_model, x, y, lr=0.003)\n",
    "    # 100회에 한번씩 그 경과를 출력해 보도록 하자.\n",
    "    if epoch_count % 100 == 0:\n",
    "        print(f\"{epoch_count}:: W:{linear_model.Weight.numpy()} b:{linear_model.Bias.numpy()} Loss: {real_loss.numpy()} \")"
   ]
  },
  {
   "cell_type": "markdown",
   "metadata": {},
   "source": [
    "# 2. keras를 사용한 코드"
   ]
  },
  {
   "cell_type": "code",
   "execution_count": 9,
   "metadata": {},
   "outputs": [
    {
     "data": {
      "text/plain": [
       "<matplotlib.collections.PathCollection at 0x21203846af0>"
      ]
     },
     "execution_count": 9,
     "metadata": {},
     "output_type": "execute_result"
    },
    {
     "data": {
      "image/png": "[encoded data removed]",
      "text/plain": [
       "<Figure size 432x288 with 1 Axes>"
      ]
     },
     "metadata": {
      "needs_background": "light"
     },
     "output_type": "display_data"
    }
   ],
   "source": [
    "# 모듈 로드\n",
    "import tensorflow as tf\n",
    "import matplotlib.pyplot as plt\n",
    "\n",
    "# 주어진 데이터 입력\n",
    "# 아래 리스트에 생성된 데이터를 대체해 넣으세요.\n",
    "x = [3, 4.4, 6.2, 7.5, 9.3]\n",
    "y = [2.1, 4.2, 5.9, 8.3, 9.8]\n",
    "\n",
    "# 데이터 시각화\n",
    "plt.scatter(x, y, label=\"input data set\")"
   ]
  },
  {
   "cell_type": "code",
   "execution_count": null,
   "metadata": {},
   "outputs": [],
   "source": [
    "layer0 = tf.keras.layers.Dense(units=1, input_shape=[1])\n",
    "\n",
    "model = tf.keras.Sequential([layer0])\n",
    "\n",
    "model.compile(loss='mean_squared_error',\n",
    "              optimizer=tf.keras.optimizers.Adam(0.5))\n",
    "\n",
    "history = model.fit(x, y, epochs=5000, verbose=True)\n",
    "\n",
    "weights = layer0.get_weights()\n",
    "print('weight: {} bias: {}'.format(weights[0], weights[1]))\n",
    "\n",
    "print('Prediction: {}'.format(model.predict([7])))"
   ]
  },
  {
   "cell_type": "markdown",
   "metadata": {},
   "source": [
    "## (번외) 난수 생성 후 맞추기 놀이"
   ]
  },
  {
   "cell_type": "code",
   "execution_count": null,
   "metadata": {},
   "outputs": [],
   "source": [
    "from random import randint\n",
    " \n",
    "n = randint(1, 100)\n",
    " \n",
    "while True:\n",
    "    ans = input(\"Guess my number (Q to exit): \")\n",
    "    if ans.upper() == \"Q\":\n",
    "        break\n",
    "    ians = int(ans)\n",
    "    if (n == ians):\n",
    "        print(\"Correct!\")\n",
    "        break\n",
    "    elif (n > ians):\n",
    "        print(\"Choose higher number\")\n",
    "    else:\n",
    "        print(\"Choose lower number\")"
   ]
  }
 ],
 "metadata": {
  "kernelspec": {
   "display_name": "Python 3",
   "language": "python",
   "name": "python3"
  },
  "language_info": {
   "codemirror_mode": {
    "name": "ipython",
    "version": 3
   },
   "file_extension": ".py",
   "mimetype": "text/x-python",
   "name": "python",
   "nbconvert_exporter": "python",
   "pygments_lexer": "ipython3",
   "version": "3.8.5"
  }
 },
 "nbformat": 4,
 "nbformat_minor": 4
}
